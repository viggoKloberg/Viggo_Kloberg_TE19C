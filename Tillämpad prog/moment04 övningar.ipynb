{
 "metadata": {
  "language_info": {
   "codemirror_mode": {
    "name": "ipython",
    "version": 3
   },
   "file_extension": ".py",
   "mimetype": "text/x-python",
   "name": "python",
   "nbconvert_exporter": "python",
   "pygments_lexer": "ipython3",
   "version": "3.8.3-final"
  },
  "orig_nbformat": 2,
  "kernelspec": {
   "name": "python3",
   "display_name": "Python 3"
  }
 },
 "nbformat": 4,
 "nbformat_minor": 2,
 "cells": [
  {
   "cell_type": "code",
   "execution_count": 10,
   "metadata": {},
   "outputs": [
    {
     "output_type": "stream",
     "name": "stdout",
     "text": [
      "2\n4\n6\n8\n10\n3840\n"
     ]
    }
   ],
   "source": [
    "# u01\n",
    "produkt = 1\n",
    "for i in range(2,11,2):\n",
    "    print(i)\n",
    "    produkt *= i\n",
    "\n",
    "print(produkt)\n",
    "    \n",
    "\n"
   ]
  },
  {
   "cell_type": "code",
   "execution_count": 18,
   "metadata": {},
   "outputs": [
    {
     "output_type": "stream",
     "name": "stdout",
     "text": [
      "15579.67416600765 kr\n"
     ]
    }
   ],
   "source": [
    "# u02\n",
    "ins = 10000\n",
    "\n",
    "for i in range(1,16):\n",
    "    ins *= 1.03\n",
    "\n",
    "print(ins, \"kr\")\n",
    "\n",
    "\n"
   ]
  },
  {
   "cell_type": "code",
   "execution_count": 25,
   "metadata": {},
   "outputs": [
    {
     "output_type": "stream",
     "name": "stdout",
     "text": [
      "12\n15\n18\n165\n"
     ]
    }
   ],
   "source": [
    "summa = 0\n",
    "for i in range(10,21):\n",
    "    summa += i\n",
    "    if i%3 == 0:\n",
    "        print(i)\n",
    "\n",
    "print(summa)\n",
    "\n"
   ]
  },
  {
   "cell_type": "code",
   "execution_count": null,
   "metadata": {},
   "outputs": [],
   "source": []
  }
 ]
}