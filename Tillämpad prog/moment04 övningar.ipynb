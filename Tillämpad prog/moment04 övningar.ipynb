{
 "metadata": {
  "language_info": {
   "codemirror_mode": {
    "name": "ipython",
    "version": 3
   },
   "file_extension": ".py",
   "mimetype": "text/x-python",
   "name": "python",
   "nbconvert_exporter": "python",
   "pygments_lexer": "ipython3",
   "version": "3.8.3-final"
  },
  "orig_nbformat": 2,
  "kernelspec": {
   "name": "python3",
   "display_name": "Python 3",
   "language": "python"
  }
 },
 "nbformat": 4,
 "nbformat_minor": 2,
 "cells": [
  {
   "cell_type": "code",
   "execution_count": 10,
   "metadata": {},
   "outputs": [
    {
     "output_type": "stream",
     "name": "stdout",
     "text": [
      "2\n4\n6\n8\n10\n3840\n"
     ]
    }
   ],
   "source": [
    "# u01\n",
    "produkt = 1\n",
    "for i in range(2,11,2):\n",
    "    print(i)\n",
    "    produkt *= i\n",
    "\n",
    "print(produkt)\n",
    "    \n",
    "\n"
   ]
  },
  {
   "cell_type": "code",
   "execution_count": 18,
   "metadata": {},
   "outputs": [
    {
     "output_type": "stream",
     "name": "stdout",
     "text": [
      "15579.67416600765 kr\n"
     ]
    }
   ],
   "source": [
    "# u02\n",
    "ins = 10000\n",
    "\n",
    "for i in range(1,16):\n",
    "    ins *= 1.03\n",
    "\n",
    "print(ins, \"kr\")\n",
    "\n",
    "\n"
   ]
  },
  {
   "cell_type": "code",
   "execution_count": 2,
   "metadata": {},
   "outputs": [
    {
     "output_type": "stream",
     "name": "stdout",
     "text": [
      "1 2 3 4 5 6 7 8 9 10  \n2 4 6 8 10 12 14 16 18 20  \n3 6 9 12 15 18 21 24 27 30  \n4 8 12 16 20 24 28 32 36 40  \n5 10 15 20 25 30 35 40 45 50  \n6 12 18 24 30 36 42 48 54 60  \n7 14 21 28 35 42 49 56 63 70  \n8 16 24 32 40 48 56 64 72 80  \n9 18 27 36 45 54 63 72 81 90  \n10 20 30 40 50 60 70 80 90 100  \n"
     ]
    }
   ],
   "source": [
    "#u03\n",
    "for i in range(1,11):\n",
    "    for n in range(i,i*10+1,i):\n",
    "        print(n, end=\" \")\n",
    "    else: print(\" \")"
   ]
  },
  {
   "cell_type": "code",
   "execution_count": 24,
   "metadata": {},
   "outputs": [
    {
     "output_type": "stream",
     "name": "stdout",
     "text": [
      "1 2 3  \n2 4 6  \n3 6 9  \n"
     ]
    }
   ],
   "source": [
    "#u03b\n",
    "times = int(input(\"hur många tabeller vill du ha?\"))\n",
    "\n",
    "for i in range(1,times+1):\n",
    "    for n in range(i,i*times+1,i):\n",
    "        print(n, end=\" \")\n",
    "    else: print(\" \")"
   ]
  },
  {
   "cell_type": "code",
   "execution_count": 1,
   "metadata": {
    "tags": []
   },
   "outputs": [
    {
     "output_type": "stream",
     "name": "stdout",
     "text": [
      "10\n9\n8\n7\n6\n5\n4\n3\n2\n1\n"
     ]
    }
   ],
   "source": [
    "#u04\n",
    "produkt = 1\n",
    "tal = 10\n",
    "while tal > 0:\n",
    "    print(tal)\n",
    "    tal -= 1\n",
    "    \n",
    "\n",
    "\n"
   ]
  },
  {
   "cell_type": "code",
   "execution_count": 6,
   "metadata": {},
   "outputs": [
    {
     "output_type": "stream",
     "name": "stdout",
     "text": [
      "200\n400\n800\n1600\n3200\n6400\n12800\n25600\n51200\n102400\n204800\n409600\n819200\n1638400\n14 månader\n"
     ]
    }
   ],
   "source": [
    "#u05\n",
    "månader = []\n",
    "råttor = 100\n",
    "while råttor < 1000001:\n",
    "    råttor *= 2\n",
    "    print(råttor)\n",
    "    månader.append(råttor)\n",
    "else:print(len(månader),\"månader\")"
   ]
  },
  {
   "cell_type": "code",
   "execution_count": 14,
   "metadata": {},
   "outputs": [],
   "source": [
    "#u06 och u07\n",
    "while True:\n",
    "    try:\n",
    "        start = int(input(\"välj ett heltal där loopen ska börja\"))\n",
    "        \n",
    "        slut = int(input(\"välj ett heltal där loopen ska sluta\"))\n",
    "       \n",
    "        ej = int(input(\"välj ett heltal som ej ska skrivas ut\"))\n",
    "      \n",
    "        bryt = int(input(\"välj ett hel heltal som ska avsluta loopen\"))\n",
    "\n",
    "        start < slut\n",
    "\n",
    "        break\n",
    "    except:\n",
    "        print(\"fel inmatning, försök igen\")\n",
    "\n",
    "\n",
    "while start <= slut and start != bryt+1:\n",
    "    if start != ej:\n",
    "        print(start)\n",
    "    start += 1\n",
    "\n",
    "\n"
   ]
  },
  {
   "cell_type": "code",
   "execution_count": null,
   "metadata": {},
   "outputs": [],
   "source": [
    "#u08\n"
   ]
  }
 ]
}