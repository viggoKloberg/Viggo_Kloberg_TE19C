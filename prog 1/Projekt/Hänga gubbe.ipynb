{
 "metadata": {
  "language_info": {
   "codemirror_mode": {
    "name": "ipython",
    "version": 3
   },
   "file_extension": ".py",
   "mimetype": "text/x-python",
   "name": "python",
   "nbconvert_exporter": "python",
   "pygments_lexer": "ipython3",
   "version": "3.8.3"
  },
  "orig_nbformat": 2,
  "kernelspec": {
   "name": "python383jvsc74a57bd056db82936197fa884378617111334c7f146cfe8892782bdd0f27fc49d208ddca",
   "display_name": "Python 3.8.3 64-bit (conda)"
  }
 },
 "nbformat": 4,
 "nbformat_minor": 2,
 "cells": [
  {
   "cell_type": "code",
   "execution_count": 24,
   "metadata": {},
   "outputs": [
    {
     "output_type": "stream",
     "name": "stdout",
     "text": [
      "['_', '_', 'y', '_', '_', '_', '_']\n",
      "yay\n"
     ]
    }
   ],
   "source": [
    "word1 = \"t\"\n",
    "word2 = \"e\"\n",
    "word3 = \"l\"\n",
    "word4 = \"e\"\n",
    "word5 = \"f\"\n",
    "word6 = \"o\"\n",
    "word7 = \"n\"\n",
    "\n",
    "sentence = [\"_\",\"_\",\"\",\"_\",\"_\",\"_\",\"_\"]\n",
    "\n",
    "print(sentence[0:])\n",
    "i = 7\n",
    "\n",
    "while i > 0:\n",
    "    guess = str(input(\"gissa en bokstav\"))\n",
    "\n",
    "    if guess == \"t\" or \"T\":\n",
    "\n",
    "        print(\"yay\")\n",
    "\n",
    "        break\n",
    "\n",
    "\n",
    "   \n",
    "\n",
    "\n"
   ]
  },
  {
   "cell_type": "code",
   "execution_count": null,
   "metadata": {},
   "outputs": [],
   "source": []
  }
 ]
}