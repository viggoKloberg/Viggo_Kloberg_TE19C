{
 "metadata": {
  "language_info": {
   "codemirror_mode": {
    "name": "ipython",
    "version": 3
   },
   "file_extension": ".py",
   "mimetype": "text/x-python",
   "name": "python",
   "nbconvert_exporter": "python",
   "pygments_lexer": "ipython3",
   "version": "3.8.3-final"
  },
  "orig_nbformat": 2,
  "kernelspec": {
   "name": "python3",
   "display_name": "Python 3",
   "language": "python"
  }
 },
 "nbformat": 4,
 "nbformat_minor": 2,
 "cells": [
  {
   "cell_type": "code",
   "execution_count": 10,
   "metadata": {},
   "outputs": [
    {
     "output_type": "stream",
     "name": "stdout",
     "text": [
      "3.0\n"
     ]
    }
   ],
   "source": [
    "def calcavg(x,y,z):\n",
    "    return (x + y + z) / 3\n",
    "\n",
    "print(calcavg(1,3,5))"
   ]
  },
  {
   "cell_type": "code",
   "execution_count": 11,
   "metadata": {},
   "outputs": [
    {
     "output_type": "stream",
     "name": "stdout",
     "text": [
      "268.082573106329\n"
     ]
    }
   ],
   "source": [
    "import math\n",
    "def calcvol(r):\n",
    "        return (4*math.pi*r**3)/3\n",
    "r = float(input(\"ge radien\"))\n",
    "vol = calcvol(r)\n",
    "print(vol)"
   ]
  },
  {
   "cell_type": "code",
   "execution_count": 20,
   "metadata": {},
   "outputs": [
    {
     "output_type": "stream",
     "name": "stdout",
     "text": [
      "3\n"
     ]
    }
   ],
   "source": [
    "mening = str(input(\"skriv en mening\"))\n",
    "x = mening.split()\n",
    "print(len(x))"
   ]
  },
  {
   "cell_type": "code",
   "execution_count": 37,
   "metadata": {},
   "outputs": [
    {
     "output_type": "stream",
     "name": "stdout",
     "text": [
      "4 är rätt\n",
      "50 är rätt\n",
      "67 är fel, försök igen\n"
     ]
    }
   ],
   "source": [
    "import random\n",
    "\n",
    "while True:\n",
    "    x = random.randint(1,10)\n",
    "    y = random.randint(1,10)\n",
    "    \n",
    "    sum = x*y\n",
    "\n",
    "    svar = int(input(f\"vad blir {x} gånger {y}?\"))\n",
    "\n",
    "    if svar == sum:\n",
    "        print(f\"{svar} är rätt\")\n",
    "    else:\n",
    "        print(f\"{svar} är fel, försök igen\")\n",
    "        break"
   ]
  },
  {
   "cell_type": "code",
   "execution_count": 56,
   "metadata": {},
   "outputs": [
    {
     "output_type": "stream",
     "name": "stdout",
     "text": [
      "1666\n"
     ]
    }
   ],
   "source": [
    "import random\n",
    "fives = []\n",
    "for i in range(10000):\n",
    "    x = random.randint(1,6)\n",
    "    if x == 5:\n",
    "        fives.append(x)\n",
    "print(len(fives))\n"
   ]
  },
  {
   "cell_type": "code",
   "execution_count": null,
   "metadata": {},
   "outputs": [],
   "source": []
  }
 ]
}