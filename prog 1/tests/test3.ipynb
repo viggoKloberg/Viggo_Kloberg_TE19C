{
 "metadata": {
  "language_info": {
   "codemirror_mode": {
    "name": "ipython",
    "version": 3
   },
   "file_extension": ".py",
   "mimetype": "text/x-python",
   "name": "python",
   "nbconvert_exporter": "python",
   "pygments_lexer": "ipython3",
   "version": "3.8.3-final"
  },
  "orig_nbformat": 2,
  "kernelspec": {
   "name": "python3",
   "display_name": "Python 3",
   "language": "python"
  }
 },
 "nbformat": 4,
 "nbformat_minor": 2,
 "cells": [
  {
   "cell_type": "code",
   "execution_count": 10,
   "metadata": {},
   "outputs": [
    {
     "output_type": "stream",
     "name": "stdout",
     "text": [
      "3.0\n"
     ]
    }
   ],
   "source": [
    "def calcavg(x,y,z):\n",
    "    return (x + y + z) / 3\n",
    "\n",
    "print(calcavg(1,3,5))"
   ]
  },
  {
   "cell_type": "code",
   "execution_count": 11,
   "metadata": {},
   "outputs": [
    {
     "output_type": "stream",
     "name": "stdout",
     "text": [
      "268.082573106329\n"
     ]
    }
   ],
   "source": [
    "import math\n",
    "def calcvol(r):\n",
    "        return (4*math.pi*r**3)/3\n",
    "r = float(input(\"ge radien\"))\n",
    "vol = calcvol(r)\n",
    "print(vol)"
   ]
  },
  {
   "cell_type": "code",
   "execution_count": 5,
   "metadata": {},
   "outputs": [
    {
     "output_type": "stream",
     "name": "stdout",
     "text": [
      "3\n"
     ]
    }
   ],
   "source": [
    "mening = str(input(\"skriv en mening\"))\n",
    "x = mening.split( )\n",
    "print(len(x))"
   ]
  },
  {
   "cell_type": "code",
   "execution_count": 41,
   "metadata": {},
   "outputs": [
    {
     "output_type": "stream",
     "name": "stdout",
     "text": [
      "12 är rätt\n",
      "21 är rätt\n",
      "54 är rätt\n",
      "1 är fel, försök igen\n"
     ]
    }
   ],
   "source": [
    "import random\n",
    "\n",
    "while True:\n",
    "    x = random.randint(1,10)\n",
    "    y = random.randint(1,10)\n",
    "    \n",
    "    sum = x*y\n",
    "\n",
    "    svar = int(input(f\"vad blir {x} gånger {y}?\"))\n",
    "\n",
    "    if svar == sum:\n",
    "        print(f\"{svar} är rätt\")\n",
    "    else:\n",
    "        print(f\"{svar} är fel, försök igen\")\n",
    "        break"
   ]
  },
  {
   "cell_type": "code",
   "execution_count": 42,
   "metadata": {},
   "outputs": [
    {
     "output_type": "stream",
     "name": "stdout",
     "text": [
      "1693\n"
     ]
    }
   ],
   "source": [
    "import random\n",
    "fives = []\n",
    "for i in range(10000):\n",
    "    x = random.randint(1,6)\n",
    "    if x == 5:\n",
    "        fives.append(x)\n",
    "print(len(fives))\n",
    "\n",
    "\n"
   ]
  },
  {
   "cell_type": "code",
   "execution_count": 43,
   "metadata": {},
   "outputs": [
    {
     "output_type": "stream",
     "name": "stdout",
     "text": [
      "4 tusenlappar\n1 femhundralappar\n0 tvåhundralappar\n0 hundralappar\n1 femtiolappar\n0 tjugiolappar\n1 tiokronor\n1 femkronor\n1 tvåkronor\n0 enkrona\n"
     ]
    }
   ],
   "source": [
    "tusen = []\n",
    "femhundra = []\n",
    "thundra = []\n",
    "hundra = []\n",
    "femtio = []\n",
    "tjugio = []\n",
    "tio = []\n",
    "fem = []\n",
    "två = []\n",
    "en = []\n",
    "\n",
    "money = int(input(\"ge ett ett heltal\"))\n",
    "\n",
    "while money >= 1000:\n",
    "    money -= 1000\n",
    "    tusen.append(1)\n",
    "\n",
    "while money >= 500:\n",
    "    money -= 500\n",
    "    femhundra.append(1)\n",
    "\n",
    "while money >= 200:\n",
    "    money -= 200\n",
    "    thundra.append(1)\n",
    "\n",
    "while money >= 100:\n",
    "    money -= 100\n",
    "    hundra.append(1)\n",
    "\n",
    "while money >= 50:\n",
    "    money -= 50\n",
    "    femtio.append(1)\n",
    "\n",
    "while money >= 20:\n",
    "    money -= 20\n",
    "    tjugio.append(1)\n",
    "\n",
    "while money >= 10:\n",
    "    money -= 10\n",
    "    tio.append(1)\n",
    "\n",
    "while money >= 5:\n",
    "    money -= 5\n",
    "    fem.append(1)\n",
    "\n",
    "while money >= 2:\n",
    "    money -= 2\n",
    "    två.append(1)\n",
    "\n",
    "while money >= 1:\n",
    "    money -= 1\n",
    "    en.append(1)\n",
    "\n",
    "print(f\"{len(tusen)} tusenlappar\")\n",
    "\n",
    "print(f\"{len(femhundra)} femhundralappar\")\n",
    "\n",
    "print(f\"{len(thundra)} tvåhundralappar\")\n",
    "\n",
    "print(f\"{len(hundra)} hundralappar\")\n",
    "\n",
    "print(f\"{len(femtio)} femtiolappar\")\n",
    "\n",
    "print(f\"{len(tjugio)} tjugiolappar\")\n",
    "\n",
    "print(f\"{len(tio)} tiokronor\")\n",
    "\n",
    "print(f\"{len(fem)} femkronor\")\n",
    "\n",
    "print(f\"{len(två)} tvåkronor\")\n",
    "\n",
    "print(f\"{len(en)} enkrona\")\n",
    "\n"
   ]
  },
  {
   "cell_type": "code",
   "execution_count": 1,
   "metadata": {},
   "outputs": [
    {
     "output_type": "error",
     "ename": "FileNotFoundError",
     "evalue": "[Errno 2] No such file or directory: 'datatyper.txt'",
     "traceback": [
      "\u001b[1;31m---------------------------------------------------------------------------\u001b[0m",
      "\u001b[1;31mFileNotFoundError\u001b[0m                         Traceback (most recent call last)",
      "\u001b[1;32m<ipython-input-1-512ef5a9eea0>\u001b[0m in \u001b[0;36m<module>\u001b[1;34m\u001b[0m\n\u001b[0;32m      3\u001b[0m \u001b[0minfo_datatyp\u001b[0m \u001b[1;33m=\u001b[0m \u001b[1;33m[\u001b[0m\u001b[1;33m]\u001b[0m\u001b[1;33m\u001b[0m\u001b[1;33m\u001b[0m\u001b[0m\n\u001b[0;32m      4\u001b[0m \u001b[1;33m\u001b[0m\u001b[0m\n\u001b[1;32m----> 5\u001b[1;33m \u001b[1;32mwith\u001b[0m \u001b[0mopen\u001b[0m\u001b[1;33m(\u001b[0m\u001b[1;34m'datatyper.txt'\u001b[0m\u001b[1;33m)\u001b[0m \u001b[1;32mas\u001b[0m \u001b[0mf\u001b[0m\u001b[1;33m:\u001b[0m\u001b[1;33m\u001b[0m\u001b[1;33m\u001b[0m\u001b[0m\n\u001b[0m\u001b[0;32m      6\u001b[0m     \u001b[1;32mfor\u001b[0m \u001b[0mrad\u001b[0m \u001b[1;32min\u001b[0m \u001b[0mf\u001b[0m\u001b[1;33m:\u001b[0m\u001b[1;33m\u001b[0m\u001b[1;33m\u001b[0m\u001b[0m\n\u001b[0;32m      7\u001b[0m         \u001b[0mrad\u001b[0m \u001b[1;33m=\u001b[0m \u001b[0mrad\u001b[0m\u001b[1;33m.\u001b[0m\u001b[0msplit\u001b[0m\u001b[1;33m(\u001b[0m\u001b[1;34m'|'\u001b[0m\u001b[1;33m)\u001b[0m\u001b[1;33m\u001b[0m\u001b[1;33m\u001b[0m\u001b[0m\n",
      "\u001b[1;31mFileNotFoundError\u001b[0m: [Errno 2] No such file or directory: 'datatyper.txt'"
     ]
    }
   ],
   "source": [
    "datatyp = []\n",
    "ex_datatyp = []\n",
    "info_datatyp = []\n",
    "\n",
    "with open('datatyper.txt') as f:\n",
    "    for rad in f:\n",
    "        rad = rad.split('|')\n",
    "        datatyp.append(rad[0].lstrip())\n",
    "        ex_datatyp.append(rad[1].lstrip())\n",
    "        info_datatyp.append(rad[2].lstrip())\n",
    "\n",
    "for i, t in enumerate(datatyp):\n",
    "    print(\n",
    "        '{:<15}{}\\n{:<15}{}\\n{:<15}{}'.format('Datatyp:', t, 'Exempel:', ex_datatyp[i], 'Förklaring:', info_datatyp[i]))"
   ]
  },
  {
   "cell_type": "code",
   "execution_count": null,
   "metadata": {},
   "outputs": [],
   "source": []
  }
 ]
}