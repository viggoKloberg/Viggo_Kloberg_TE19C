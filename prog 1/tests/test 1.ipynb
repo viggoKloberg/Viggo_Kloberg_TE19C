{
 "metadata": {
  "language_info": {
   "codemirror_mode": {
    "name": "ipython",
    "version": 3
   },
   "file_extension": ".py",
   "mimetype": "text/x-python",
   "name": "python",
   "nbconvert_exporter": "python",
   "pygments_lexer": "ipython3",
   "version": "3.8.3-final"
  },
  "orig_nbformat": 2,
  "kernelspec": {
   "name": "Python 3.8.3 64-bit ('base': conda)",
   "display_name": "Python 3.8.3 64-bit ('base': conda)",
   "metadata": {
    "interpreter": {
     "hash": "56db82936197fa884378617111334c7f146cfe8892782bdd0f27fc49d208ddca"
    }
   }
  }
 },
 "nbformat": 4,
 "nbformat_minor": 2,
 "cells": [
  {
   "cell_type": "code",
   "execution_count": 20,
   "metadata": {
    "tags": []
   },
   "outputs": [
    {
     "output_type": "stream",
     "name": "stdout",
     "text": [
      "klar\n"
     ]
    }
   ],
   "source": [
    "primes = []\n",
    "for i in range(1,101):\n",
    "    isprime = i > 1\n",
    "    for n in primes:\n",
    "        if i%n == 0:\n",
    "            isprime = False \n",
    "    if isprime == True:\n",
    "        primes.append(i)\n",
    "        print(i, end = \" \") \n",
    "        \n",
    "\n"
   ]
  },
  {
   "cell_type": "code",
   "execution_count": null,
   "metadata": {},
   "outputs": [],
   "source": []
  }
 ]
}