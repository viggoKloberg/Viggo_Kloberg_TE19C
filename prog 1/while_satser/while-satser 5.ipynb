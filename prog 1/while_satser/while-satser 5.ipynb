{
 "metadata": {
  "language_info": {
   "codemirror_mode": {
    "name": "ipython",
    "version": 3
   },
   "file_extension": ".py",
   "mimetype": "text/x-python",
   "name": "python",
   "nbconvert_exporter": "python",
   "pygments_lexer": "ipython3",
   "version": "3.8.3-final"
  },
  "orig_nbformat": 2,
  "kernelspec": {
   "name": "Python 3.8.3 64-bit ('base': conda)",
   "display_name": "Python 3.8.3 64-bit ('base': conda)",
   "metadata": {
    "interpreter": {
     "hash": "56db82936197fa884378617111334c7f146cfe8892782bdd0f27fc49d208ddca"
    }
   }
  }
 },
 "nbformat": 4,
 "nbformat_minor": 2,
 "cells": [
  {
   "cell_type": "code",
   "execution_count": 6,
   "metadata": {},
   "outputs": [
    {
     "output_type": "stream",
     "name": "stdout",
     "text": [
      "Fel, talet är högre\n",
      "Fel, talet är högre\n",
      "Talet är rätt, grattis!\n"
     ]
    }
   ],
   "source": [
    "a = 27\n",
    "g = 0\n",
    "while g != a:\n",
    "    g = float(input(\"Gissa ett tal mellan 1 och 100:\"))\n",
    "    if g < a:\n",
    "        print(\"Fel, talet är högre\")\n",
    "    elif g > a:\n",
    "        print(\"Fel, talet är högre\")\n",
    "    else:\n",
    "        print(\"Talet är rätt, grattis!\")\n",
    "\n",
    "\n"
   ]
  },
  {
   "cell_type": "code",
   "execution_count": null,
   "metadata": {},
   "outputs": [],
   "source": []
  }
 ]
}