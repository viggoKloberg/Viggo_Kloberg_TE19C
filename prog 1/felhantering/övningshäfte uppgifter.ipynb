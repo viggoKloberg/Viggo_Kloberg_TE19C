{
 "metadata": {
  "language_info": {
   "codemirror_mode": {
    "name": "ipython",
    "version": 3
   },
   "file_extension": ".py",
   "mimetype": "text/x-python",
   "name": "python",
   "nbconvert_exporter": "python",
   "pygments_lexer": "ipython3",
   "version": "3.8.3-final"
  },
  "orig_nbformat": 2,
  "kernelspec": {
   "name": "python3",
   "display_name": "Python 3",
   "language": "python"
  }
 },
 "nbformat": 4,
 "nbformat_minor": 2,
 "cells": [
  {
   "cell_type": "code",
   "execution_count": 3,
   "metadata": {},
   "outputs": [
    {
     "output_type": "stream",
     "name": "stdout",
     "text": [
      "1.0\n"
     ]
    }
   ],
   "source": [
    "import numpy as np # import saknade ett t\"\n",
    "\n",
    "def distance(x,y): # ska ej vara mellanslag mellan , och y\n",
    "    return np.sqrt(x+y)\n",
    "\n",
    "print(distance(0.5,0.5)) #behöver ej vara []"
   ]
  },
  {
   "cell_type": "code",
   "execution_count": 13,
   "metadata": {},
   "outputs": [
    {
     "output_type": "stream",
     "name": "stdout",
     "text": [
      "ja\nja\nnej\n"
     ]
    }
   ],
   "source": [
    "def fyr(tal):\n",
    "    if tal/10 > 10: # behöver bara en /, < var felvänd, och nämnare hade två nollor för mycket\n",
    "        return True\n",
    "    else:\n",
    "        return False\n",
    "\n",
    "test = [100,1000,10000]\n",
    "for t in test:\n",
    "    if fyr(t):\n",
    "        print(\"ja\")\n",
    "    else:\n",
    "        print(\"nej\")\n"
   ]
  },
  {
   "cell_type": "code",
   "execution_count": null,
   "metadata": {},
   "outputs": [],
   "source": []
  }
 ]
}