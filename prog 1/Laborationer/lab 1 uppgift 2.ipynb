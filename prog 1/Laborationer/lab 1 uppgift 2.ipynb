{
 "metadata": {
  "language_info": {
   "codemirror_mode": {
    "name": "ipython",
    "version": 3
   },
   "file_extension": ".py",
   "mimetype": "text/x-python",
   "name": "python",
   "nbconvert_exporter": "python",
   "pygments_lexer": "ipython3",
   "version": "3.8.3-final"
  },
  "orig_nbformat": 2,
  "kernelspec": {
   "name": "python3",
   "display_name": "Python 3"
  }
 },
 "nbformat": 4,
 "nbformat_minor": 2,
 "cells": [
  {
   "cell_type": "code",
   "execution_count": 23,
   "metadata": {},
   "outputs": [
    {
     "output_type": "stream",
     "name": "stdout",
     "text": [
      "1\n2\nburr\n4\n5\nburr\nbirr\n8\nburr\n10\n11\nburr\n13\nbirr\nburr\n16\n17\nburr\n19\n20\nBurrBirr\n22\n23\nburr\n25\n26\nburr\nbirr\n29\nburr\n31\n32\nburr\n34\nbirr\nburr\n37\n38\nburr\n40\n41\nBurrBirr\n43\n44\nburr\n46\n47\nburr\nbirr\n50\nburr\n52\n53\nburr\n55\nbirr\nburr\n58\n59\nburr\n61\n62\nBurrBirr\n64\n65\nburr\n67\n68\nburr\nbirr\n71\nburr\n73\n74\nburr\n76\nbirr\nburr\n79\n80\nburr\n82\n83\nBurrBirr\n85\n86\nburr\n88\n89\nburr\nbirr\n92\nburr\n94\n95\nburr\n97\nbirr\nburr\n100\n101\nburr\n103\n104\nBurrBirr\n106\n107\nburr\n109\n110\nburr\nbirr\n113\nburr\n115\n116\nburr\n118\nbirr\nburr\n121\n122\nburr\n124\n125\nBurrBirr\n127\n128\nburr\n130\n131\nburr\nbirr\n134\nburr\n136\n137\nburr\n139\nbirr\nburr\n142\n143\nburr\n145\n146\nBurrBirr\n148\n149\nburr\n151\n152\nburr\nbirr\n155\nburr\n157\n158\nburr\n160\nbirr\nburr\n163\n164\nburr\n166\n167\nBurrBirr\n169\n170\nburr\n172\n173\nburr\nbirr\n176\nburr\n178\n179\nburr\n181\nbirr\nburr\n184\n185\nburr\n187\n188\nBurrBirr\n190\n191\nburr\n193\n194\nburr\nbirr\n197\nburr\n199\n200\nburr\n202\nbirr\nburr\n205\n206\nburr\n208\n209\nBurrBirr\n211\n212\nburr\n214\n215\nburr\nbirr\n218\nburr\n220\n221\nburr\n223\nbirr\nburr\n226\n227\nburr\n229\n230\nBurrBirr\n232\n233\nburr\n235\n236\nburr\nbirr\n239\nburr\n241\n242\nburr\n244\nbirr\nburr\n247\n248\nburr\n250\n251\nBurrBirr\n253\n254\nburr\n256\n257\nburr\nbirr\n260\nburr\n262\n263\nburr\n265\nbirr\nburr\n268\n269\nburr\n271\n272\nBurrBirr\n \n13 totala burrbirr\n78 totala burr\n26 totala birr\n"
     ]
    }
   ],
   "source": [
    "totalburrbirr = []\n",
    "\n",
    "totalburr = []\n",
    "\n",
    "totalbirr = []\n",
    "\n",
    "burr = int(input(\"ange ett heltal från 2 till 10, vars multipel ska bli burr:\"))\n",
    "\n",
    "birr = int(input(\"ange ett heltal från 2 till 10, vars multipel ska bli birr:\"))\n",
    "\n",
    "start = int(input(\"ange ett heltal där du vill att räkningen ska börja\"))\n",
    "\n",
    "end = int(input(\"ange ett heltal där du vill att räkningen ska sluta\"))\n",
    "\n",
    "for i in range(start,end+1):\n",
    "    if i%burr == 0 and i%birr == 0:\n",
    "        print(\"BurrBirr\")\n",
    "        totalburrbirr.append(i)\n",
    "    elif i%burr == 0:\n",
    "        print(\"burr\")\n",
    "        totalburr.append(i)\n",
    "    elif i%birr == 0:\n",
    "        print(\"birr\")\n",
    "        totalbirr.append(i)\n",
    "    else:\n",
    "        print(i)    \n",
    "\n",
    "print(\" \")\n",
    "\n",
    "print(len(totalburrbirr),\"totala burrbirr\")\n",
    "\n",
    "print(len(totalburr),\"totala burr\")\n",
    "\n",
    "print(len(totalbirr),\"totala birr\")\n",
    "\n"
   ]
  },
  {
   "cell_type": "code",
   "execution_count": null,
   "metadata": {},
   "outputs": [],
   "source": []
  }
 ]
}