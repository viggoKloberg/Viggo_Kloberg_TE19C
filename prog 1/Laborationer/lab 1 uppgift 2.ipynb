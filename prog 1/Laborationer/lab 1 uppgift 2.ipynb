{
 "metadata": {
  "language_info": {
   "codemirror_mode": {
    "name": "ipython",
    "version": 3
   },
   "file_extension": ".py",
   "mimetype": "text/x-python",
   "name": "python",
   "nbconvert_exporter": "python",
   "pygments_lexer": "ipython3",
   "version": "3.8.3-final"
  },
  "orig_nbformat": 2,
  "kernelspec": {
   "name": "python3",
   "display_name": "Python 3",
   "language": "python"
  }
 },
 "nbformat": 4,
 "nbformat_minor": 2,
 "cells": [
  {
   "cell_type": "code",
   "execution_count": 1,
   "metadata": {},
   "outputs": [
    {
     "output_type": "error",
     "ename": "ValueError",
     "evalue": "invalid literal for int() with base 10: ''",
     "traceback": [
      "\u001b[1;31m---------------------------------------------------------------------------\u001b[0m",
      "\u001b[1;31mValueError\u001b[0m                                Traceback (most recent call last)",
      "\u001b[1;32m<ipython-input-1-670dc207f277>\u001b[0m in \u001b[0;36m<module>\u001b[1;34m\u001b[0m\n\u001b[0;32m      5\u001b[0m \u001b[0mtotalbirr\u001b[0m \u001b[1;33m=\u001b[0m \u001b[1;33m[\u001b[0m\u001b[1;33m]\u001b[0m\u001b[1;33m\u001b[0m\u001b[1;33m\u001b[0m\u001b[0m\n\u001b[0;32m      6\u001b[0m \u001b[1;33m\u001b[0m\u001b[0m\n\u001b[1;32m----> 7\u001b[1;33m \u001b[0mburr\u001b[0m \u001b[1;33m=\u001b[0m \u001b[0mint\u001b[0m\u001b[1;33m(\u001b[0m\u001b[0minput\u001b[0m\u001b[1;33m(\u001b[0m\u001b[1;34m\"ange ett heltal från 2 till 10, vars multipel ska bli burr:\"\u001b[0m\u001b[1;33m)\u001b[0m\u001b[1;33m)\u001b[0m\u001b[1;33m\u001b[0m\u001b[1;33m\u001b[0m\u001b[0m\n\u001b[0m\u001b[0;32m      8\u001b[0m \u001b[1;33m\u001b[0m\u001b[0m\n\u001b[0;32m      9\u001b[0m \u001b[0mbirr\u001b[0m \u001b[1;33m=\u001b[0m \u001b[0mint\u001b[0m\u001b[1;33m(\u001b[0m\u001b[0minput\u001b[0m\u001b[1;33m(\u001b[0m\u001b[1;34m\"ange ett heltal från 2 till 10, vars multipel ska bli birr:\"\u001b[0m\u001b[1;33m)\u001b[0m\u001b[1;33m)\u001b[0m\u001b[1;33m\u001b[0m\u001b[1;33m\u001b[0m\u001b[0m\n",
      "\u001b[1;31mValueError\u001b[0m: invalid literal for int() with base 10: ''"
     ]
    }
   ],
   "source": [
    "totalburrbirr = []\n",
    "\n",
    "totalburr = []\n",
    "\n",
    "totalbirr = []\n",
    "\n",
    "burr = int(input(\"ange ett heltal från 2 till 10, vars multipel ska bli burr:\"))\n",
    "\n",
    "birr = int(input(\"ange ett heltal från 2 till 10, vars multipel ska bli birr:\"))\n",
    "\n",
    "start = int(input(\"ange ett heltal där du vill att räkningen ska börja\"))\n",
    "\n",
    "end = int(input(\"ange ett heltal där du vill att räkningen ska sluta\"))\n",
    "\n",
    "for i in range(start, end + 1):\n",
    "    if i % burr == 0 and i % birr == 0:\n",
    "        print(\"BurrBirr\")\n",
    "        totalburrbirr.append(i)\n",
    "    elif i % burr == 0:\n",
    "        print(\"burr\")\n",
    "        totalburr.append(i)\n",
    "    elif i % birr == 0:\n",
    "        print(\"birr\")\n",
    "        totalbirr.append(i)\n",
    "    else:\n",
    "        print(i)    \n",
    "\n",
    "print(\" \")\n",
    "\n",
    "print(len(totalburrbirr),\"totala burrbirr\")\n",
    "\n",
    "print(len(totalburr),\"totala burr\")\n",
    "\n",
    "print(len(totalbirr),\"totala birr\")\n",
    "\n"
   ]
  },
  {
   "cell_type": "code",
   "execution_count": null,
   "metadata": {},
   "outputs": [],
   "source": []
  }
 ]
}