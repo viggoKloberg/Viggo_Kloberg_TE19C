{
 "metadata": {
  "language_info": {
   "codemirror_mode": {
    "name": "ipython",
    "version": 3
   },
   "file_extension": ".py",
   "mimetype": "text/x-python",
   "name": "python",
   "nbconvert_exporter": "python",
   "pygments_lexer": "ipython3",
   "version": "3.8.3-final"
  },
  "orig_nbformat": 2,
  "kernelspec": {
   "name": "python3",
   "display_name": "Python 3"
  }
 },
 "nbformat": 4,
 "nbformat_minor": 2,
 "cells": [
  {
   "cell_type": "code",
   "execution_count": 1,
   "metadata": {},
   "outputs": [
    {
     "output_type": "stream",
     "name": "stdout",
     "text": [
      "1\n2\nburr\n4\n5\nburr\nbirr\n8\nburr\n10\n11\nburr\n13\nbirr\nburr\n16\n17\nburr\n19\n20\nBurrBirr\n22\n23\nburr\n25\n26\nburr\nbirr\n29\nburr\n31\n32\nburr\n34\nbirr\nburr\n37\n38\nburr\n40\n41\nBurrBirr\n43\n44\nburr\n46\n47\nburr\nbirr\n50\nburr\n52\n53\nburr\n55\nbirr\nburr\n58\n59\nburr\n61\n62\nBurrBirr\n64\n65\nburr\n67\n68\nburr\nbirr\n71\nburr\n73\n74\nburr\n76\nbirr\nburr\n79\n80\nburr\n82\n83\nBurrBirr\n85\n86\nburr\n88\n89\nburr\nbirr\n92\nburr\n94\n95\nburr\n97\nbirr\nburr\n100\n \n4 totala burrbirr\n29 totala burr\n10 totala birr\n"
     ]
    }
   ],
   "source": [
    "totalburrbirr = []\n",
    "\n",
    "totalburr = []\n",
    "\n",
    "totalbirr = []\n",
    "\n",
    "burr = int(input(\"ange ett heltal från 2 till 10, vars multipel ska bli burr:\"))\n",
    "\n",
    "birr = int(input(\"ange ett heltal från 2 till 10, vars multipel ska bli birr:\"))\n",
    "\n",
    "start = int(input(\"ange ett heltal där du vill att räkningen ska börja\"))\n",
    "\n",
    "end = int(input(\"ange ett heltal där du vill att räkningen ska sluta\"))\n",
    "\n",
    "for i in range(start, end + 1):\n",
    "    if i % burr == 0 and i % birr == 0:\n",
    "        print(\"BurrBirr\")\n",
    "        totalburrbirr.append(i)\n",
    "    elif i % burr == 0:\n",
    "        print(\"burr\")\n",
    "        totalburr.append(i)\n",
    "    elif i % birr == 0:\n",
    "        print(\"birr\")\n",
    "        totalbirr.append(i)\n",
    "    else:\n",
    "        print(i)    \n",
    "\n",
    "print(\" \")\n",
    "\n",
    "print(len(totalburrbirr),\"totala burrbirr\")\n",
    "\n",
    "print(len(totalburr),\"totala burr\")\n",
    "\n",
    "print(len(totalbirr),\"totala birr\")\n",
    "\n"
   ]
  },
  {
   "cell_type": "code",
   "execution_count": null,
   "metadata": {},
   "outputs": [],
   "source": []
  }
 ]
}