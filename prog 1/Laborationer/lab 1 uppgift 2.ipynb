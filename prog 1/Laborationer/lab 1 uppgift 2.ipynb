{
 "metadata": {
  "language_info": {
   "codemirror_mode": {
    "name": "ipython",
    "version": 3
   },
   "file_extension": ".py",
   "mimetype": "text/x-python",
   "name": "python",
   "nbconvert_exporter": "python",
   "pygments_lexer": "ipython3",
   "version": "3.8.3-final"
  },
  "orig_nbformat": 2,
  "kernelspec": {
   "name": "python3",
   "display_name": "Python 3"
  }
 },
 "nbformat": 4,
 "nbformat_minor": 2,
 "cells": [
  {
   "cell_type": "code",
   "execution_count": 2,
   "metadata": {},
   "outputs": [],
   "source": [
    "burr = float(input(\"ange ett tal från 2 till 10, vars multipel ska bli burr:\"))\n",
    "\n",
    "birr = float(input(\"ange ett tal från 2 till 10, vars multipel ska bli birr:\"))\n",
    "\n",
    "rangestart = float(input(\"ange ett tal där du vill att räkningen ska börja\"))\n",
    "\n",
    "rangeend = float(input(\"ange ett tal där du vill att räkningen ska sluta\"))\n",
    "\n",
    "realend = rangeend + 1\n",
    "\n"
   ]
  },
  {
   "cell_type": "code",
   "execution_count": null,
   "metadata": {},
   "outputs": [],
   "source": []
  }
 ]
}